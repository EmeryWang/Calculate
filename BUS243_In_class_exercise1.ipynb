{
  "nbformat": 4,
  "nbformat_minor": 0,
  "metadata": {
    "colab": {
      "provenance": [],
      "include_colab_link": true
    },
    "kernelspec": {
      "name": "python3",
      "display_name": "Python 3"
    },
    "language_info": {
      "name": "python"
    }
  },
  "cells": [
    {
      "cell_type": "markdown",
      "metadata": {
        "id": "view-in-github",
        "colab_type": "text"
      },
      "source": [
        "<a href=\"https://colab.research.google.com/github/EmeryWang/Calculate/blob/main/BUS243_In_class_exercise1.ipynb\" target=\"_parent\"><img src=\"https://colab.research.google.com/assets/colab-badge.svg\" alt=\"Open In Colab\"/></a>"
      ]
    },
    {
      "cell_type": "markdown",
      "source": [
        "Submit your response on the Moodle course page."
      ],
      "metadata": {
        "id": "eFd8Jd_ZYNmp"
      }
    },
    {
      "cell_type": "markdown",
      "source": [
        "1. **Dictionary Iteration**  \n",
        "   Consider the following dictionary representing students and their respective scores:\n",
        "\n",
        "   ```python\n",
        "   students_scores = {\"Alice\": \"85-92\", \"Bob\": \"78-88\", \"Charlie\": \"90-94\", \"David\": \"72-85\"}\n",
        "   ```\n",
        "\n",
        "   **Tasks:**\n",
        "   - Write a script that prints only the names of the students.\n",
        "   - Write a script that prints only the scores of the students.\n",
        "   - Write a script that prints both names and scores in the format: `Name: Scores`.\n"
      ],
      "metadata": {
        "id": "CWnUTv9-YIPQ"
      }
    },
    {
      "cell_type": "code",
      "source": [],
      "metadata": {
        "id": "1mdHLRB3YiYq"
      },
      "execution_count": null,
      "outputs": []
    },
    {
      "cell_type": "markdown",
      "source": [
        "\n",
        "2. **Adding and Modifying Dictionary Entries**  \n",
        "   - Add a new student, `Eve`, with the scores `80-90` to the `students_scores` dictionary.\n",
        "   - Update Bob's scores to `82-89`.\n",
        "   - Print the updated dictionary."
      ],
      "metadata": {
        "id": "ewiJjEgXYfle"
      }
    },
    {
      "cell_type": "code",
      "execution_count": null,
      "metadata": {
        "id": "6Hc_B4fJYDwz"
      },
      "outputs": [],
      "source": []
    },
    {
      "cell_type": "markdown",
      "source": [
        "3. **Basic Operations with NumPy Arrays**\n",
        "   - Create a NumPy array `a` with the values `[1, 2, 3, 4, 5]`.\n",
        "   - Create another array `b` with values `[5, 4, 3, 2, 1]`.\n",
        "   - Perform the following operations and print the results:\n",
        "     - Element-wise addition of `a` and `b`.\n",
        "     - Element-wise multiplication of `a` and `b`.\n",
        "     - Calculate the dot product of `a` and `b`.\n"
      ],
      "metadata": {
        "id": "hU6VbINpYjPL"
      }
    },
    {
      "cell_type": "code",
      "source": [],
      "metadata": {
        "id": "6P7sSy4RYnmw"
      },
      "execution_count": null,
      "outputs": []
    },
    {
      "cell_type": "markdown",
      "source": [
        "4. **Array Broadcasting**\n",
        "   - Create a 3x1 array `c` with the values `[[1], [2], [3]]`.\n",
        "   - Create a 1x3 array `d` with the values `[4, 5, 6]`.\n",
        "   - Add `c` and `d` using broadcasting and print the resulting array."
      ],
      "metadata": {
        "id": "wL7PM4POYoP6"
      }
    },
    {
      "cell_type": "code",
      "source": [],
      "metadata": {
        "id": "AwETTXDhYrE7"
      },
      "execution_count": null,
      "outputs": []
    },
    {
      "cell_type": "markdown",
      "source": [
        "5. **Timing Python Loops vs. NumPy Operations**\n",
        "   - Create a 1000x1000 array of random numbers.\n",
        "   - Use a nested loop to add `5` to all elements in the array between indices 100 to 999 (both rows and columns).\n",
        "   - Time the operation using `%%timeit`.\n",
        "   - Now, perform the same operation using NumPy’s array slicing and broadcasting. Time this operation as well.\n",
        "   - Compare the timing results and explain why NumPy is more efficient.\n"
      ],
      "metadata": {
        "id": "HHz-pyhHYrnF"
      }
    },
    {
      "cell_type": "code",
      "source": [],
      "metadata": {
        "id": "E6m7GAj1YsOE"
      },
      "execution_count": null,
      "outputs": []
    }
  ]
}